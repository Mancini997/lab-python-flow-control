{
 "cells": [
  {
   "cell_type": "markdown",
   "id": "d3bfc191-8885-42ee-b0a0-bbab867c6f9f",
   "metadata": {
    "tags": []
   },
   "source": [
    "# Lab | Flow Control"
   ]
  },
  {
   "cell_type": "markdown",
   "id": "3851fcd1-cf98-4653-9c89-e003b7ec9400",
   "metadata": {},
   "source": [
    "## Exercise: Managing Customer Orders Optimized\n",
    "\n",
    "In the last lab, you were starting an online store that sells various products. To ensure smooth operations, you developed a program that manages customer orders and inventory.\n",
    "\n",
    "You did so without using flow control. Let's go a step further and improve this code.\n",
    "\n",
    "Follow the steps below to complete the exercise:\n",
    "\n",
    "1. Look at your code from the lab data structures, and improve repeated code with loops.\n",
    "\n",
    "2. Instead of asking the user to input the name of three products that a customer wants to order, do the following:\n",
    "    \n",
    "    a. Prompt the user to enter the name of a product that a customer wants to order.\n",
    "    \n",
    "    b. Add the product name to the \"customer_orders\" set.\n",
    "    \n",
    "    c. Ask the user if they want to add another product (yes/no).\n",
    "    \n",
    "    d. Continue the loop until the user does not want to add another product.\n",
    "\n",
    "3. Instead of updating the inventory by subtracting 1 from the quantity of each product, only do it for  the products that were ordered (those in \"customer_orders\")."
   ]
  },
  {
   "cell_type": "code",
   "execution_count": 3,
   "id": "3f889a36-660c-4b58-bc9c-ad19f21852c1",
   "metadata": {},
   "outputs": [
    {
     "name": "stdin",
     "output_type": "stream",
     "text": [
      "Enter the quantity for t-shirt:  5\n",
      "Enter the quantity for mug:  5\n",
      "Enter the quantity for hat:  5\n",
      "Enter the quantity for book:  5\n",
      "Enter the quantity for keychain:  5\n",
      "Enter 1 product name (t-shirt, mug, hat, book, or keychain):  mug\n"
     ]
    },
    {
     "name": "stdout",
     "output_type": "stream",
     "text": [
      "mug is in the cart.\n"
     ]
    },
    {
     "name": "stdin",
     "output_type": "stream",
     "text": [
      "Add another item? (yes/no):  yes\n",
      "Enter 1 product name (t-shirt, mug, hat, book, or keychain):  mug\n"
     ]
    },
    {
     "name": "stdout",
     "output_type": "stream",
     "text": [
      "mug is in the cart.\n"
     ]
    },
    {
     "name": "stdin",
     "output_type": "stream",
     "text": [
      "Add another item? (yes/no):  yes\n",
      "Enter 1 product name (t-shirt, mug, hat, book, or keychain):  hat\n"
     ]
    },
    {
     "name": "stdout",
     "output_type": "stream",
     "text": [
      "hat is in the cart.\n"
     ]
    },
    {
     "name": "stdin",
     "output_type": "stream",
     "text": [
      "Add another item? (yes/no):  yes\n",
      "Enter 1 product name (t-shirt, mug, hat, book, or keychain):  hat\n"
     ]
    },
    {
     "name": "stdout",
     "output_type": "stream",
     "text": [
      "hat is in the cart.\n"
     ]
    },
    {
     "name": "stdin",
     "output_type": "stream",
     "text": [
      "Add another item? (yes/no):  yes\n",
      "Enter 1 product name (t-shirt, mug, hat, book, or keychain):  hat\n"
     ]
    },
    {
     "name": "stdout",
     "output_type": "stream",
     "text": [
      "hat is in the cart.\n"
     ]
    },
    {
     "name": "stdin",
     "output_type": "stream",
     "text": [
      "Add another item? (yes/no):  yes\n",
      "Enter 1 product name (t-shirt, mug, hat, book, or keychain):  t-shirt\n"
     ]
    },
    {
     "name": "stdout",
     "output_type": "stream",
     "text": [
      "t-shirt is in the cart.\n"
     ]
    },
    {
     "name": "stdin",
     "output_type": "stream",
     "text": [
      "Add another item? (yes/no):  yes\n",
      "Enter 1 product name (t-shirt, mug, hat, book, or keychain):  book\n"
     ]
    },
    {
     "name": "stdout",
     "output_type": "stream",
     "text": [
      "book is in the cart.\n"
     ]
    },
    {
     "name": "stdin",
     "output_type": "stream",
     "text": [
      "Add another item? (yes/no):  no\n"
     ]
    },
    {
     "name": "stdout",
     "output_type": "stream",
     "text": [
      "customer orders {'hat', 'mug', 't-shirt', 'book'}\n",
      "Order Statistics\n",
      "Total Products Ordered: 4\n",
      "Percentage of Products Ordered: 80.0%\n",
      "Updated Inventory:\n",
      "t-shirt: 4\n",
      "mug: 4\n",
      "hat: 4\n",
      "book: 4\n",
      "keychain: 5\n"
     ]
    }
   ],
   "source": [
    "products = [\"t-shirt\", \"mug\", \"hat\", \"book\", \"keychain\"] \n",
    "\n",
    "inventory = {}\n",
    "\n",
    "for product in products:\n",
    "    quantity = int(input(f\"Enter the quantity for {product}: \"))\n",
    "    inventory[product] = int(quantity)\n",
    "    \n",
    "customer_orders = set()\n",
    "\n",
    "while True:\n",
    "    order_product = input(\"Enter 1 product name (t-shirt, mug, hat, book, or keychain): \")\n",
    "    if order_product in products:\n",
    "        print(f\"{order_product} is in the cart.\")\n",
    "        customer_orders.add(order_product)\n",
    "        add_another_item = input(\"Add another item? (yes/no): \")\n",
    "        if add_another_item.lower() == \"no\":\n",
    "            break\n",
    "\n",
    "print(f\"customer orders {customer_orders}\")\n",
    "\n",
    "total_products_ordered = len(customer_orders)\n",
    "total_products_available = len(inventory)\n",
    "percentage_ordered = (total_products_ordered / total_products_available) * 100\n",
    "order_status = (total_products_ordered, percentage_ordered)\n",
    "\n",
    "\n",
    "print(\"Order Statistics\")\n",
    "print(f\"Total Products Ordered: {len(customer_orders)}\")\n",
    "print(f\"Percentage of Products Ordered: {percentage_ordered}%\")\n",
    "for product in customer_orders:\n",
    "    inventory[product] -= 1\n",
    "\n",
    "print(\"Updated Inventory:\")\n",
    "for product, quantity in inventory.items():\n",
    "    print(f\"{product}: {quantity}\")"
   ]
  },
  {
   "cell_type": "code",
   "execution_count": null,
   "id": "bb4ff3ca-172a-4185-b8e6-d5ab0825759e",
   "metadata": {},
   "outputs": [],
   "source": []
  }
 ],
 "metadata": {
  "kernelspec": {
   "display_name": "Python 3 (ipykernel)",
   "language": "python",
   "name": "python3"
  },
  "language_info": {
   "codemirror_mode": {
    "name": "ipython",
    "version": 3
   },
   "file_extension": ".py",
   "mimetype": "text/x-python",
   "name": "python",
   "nbconvert_exporter": "python",
   "pygments_lexer": "ipython3",
   "version": "3.11.7"
  }
 },
 "nbformat": 4,
 "nbformat_minor": 5
}
